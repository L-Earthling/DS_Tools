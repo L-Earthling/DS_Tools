{
  "nbformat": 4,
  "nbformat_minor": 0,
  "metadata": {
    "colab": {
      "provenance": [],
      "authorship_tag": "ABX9TyMzL7XL/5d3/IEv1/6KrO6Y"
    },
    "kernelspec": {
      "name": "python3",
      "display_name": "Python 3"
    },
    "language_info": {
      "name": "python"
    }
  },
  "cells": [
    {
      "cell_type": "markdown",
      "source": [
        "# Data Science Tools and Ecosystem"
      ],
      "metadata": {
        "id": "iP_fgDuGm52x"
      }
    },
    {
      "cell_type": "markdown",
      "source": [
        "In this notebook, we'll summarize the key concepts of the \"Data Science Tools and Ecosystem\" chapter of the course."
      ],
      "metadata": {
        "id": "lmzuY2tSmlph"
      }
    },
    {
      "cell_type": "markdown",
      "source": [
        "**Objectives:**\n",
        "\n",
        "Create a Jupyter Notebook with markdown and code cells\n",
        "\n",
        "*   Create a Jupyter Notebook with markdown and code cells\n",
        "*   List examples of languages, libraries and tools used in Data Science\n",
        "*   Share Jupyter Notebook publicly on GitHub\n",
        "*   Demonstrate proficiency in Data Science toolkit knowledge"
      ],
      "metadata": {
        "id": "aL1piN7QrcoP"
      }
    },
    {
      "cell_type": "markdown",
      "source": [
        "Some of the popular languages that Data Scientists use are:"
      ],
      "metadata": {
        "id": "ca8FlYognMgR"
      }
    },
    {
      "cell_type": "markdown",
      "source": [
        "\n",
        "\n",
        "1.   Python\n",
        "2.   R\n",
        "3.   SQL\n",
        "\n",
        "\n"
      ],
      "metadata": {
        "id": "CPrSShBwn1EF"
      }
    },
    {
      "cell_type": "markdown",
      "source": [
        "Some of the commonly used libraries used by Data Scientists include:"
      ],
      "metadata": {
        "id": "VpeiTp4ZoQdA"
      }
    },
    {
      "cell_type": "markdown",
      "source": [
        "\n",
        "\n",
        "1.   Matplotlib\n",
        "2.   NumPy\n",
        "3.   Keras\n",
        "4.   Pandas\n",
        "5.   PyTorch\n",
        "\n"
      ],
      "metadata": {
        "id": "QxrcxhxToTLx"
      }
    },
    {
      "cell_type": "markdown",
      "source": [
        "| Data Science Tools |\n",
        "|--------------------|\n",
        "| Jupyter Notebook   |\n",
        "| RStudio            |\n",
        "| VSCode             |\n"
      ],
      "metadata": {
        "id": "dyiJdVafpHqI"
      }
    },
    {
      "cell_type": "markdown",
      "source": [
        "### Examples of Evaluating Arithmetic Expressions in Python"
      ],
      "metadata": {
        "id": "0eugG9wWqSAR"
      }
    },
    {
      "cell_type": "code",
      "source": [
        "result = (3 * 4) + 5\n",
        "print(result)"
      ],
      "metadata": {
        "colab": {
          "base_uri": "https://localhost:8080/"
        },
        "id": "WVPwtdpeqi_P",
        "outputId": "94eeb870-2315-4096-cabe-2fca8d637c08"
      },
      "execution_count": 2,
      "outputs": [
        {
          "output_type": "stream",
          "name": "stdout",
          "text": [
            "17\n"
          ]
        }
      ]
    },
    {
      "cell_type": "markdown",
      "source": [
        "This will convert 200 minutes to hours by diving by 60:"
      ],
      "metadata": {
        "id": "EUSbiIqYqyjV"
      }
    },
    {
      "cell_type": "code",
      "source": [
        "mins = 200\n",
        "hrs = mins / 60\n",
        "print(hrs)"
      ],
      "metadata": {
        "colab": {
          "base_uri": "https://localhost:8080/"
        },
        "id": "04GYheTWq1J5",
        "outputId": "1abb1399-4099-49f2-9617-0ece9465fea0"
      },
      "execution_count": 3,
      "outputs": [
        {
          "output_type": "stream",
          "name": "stdout",
          "text": [
            "3.3333333333333335\n"
          ]
        }
      ]
    },
    {
      "cell_type": "markdown",
      "source": [
        "## Author\n",
        "\n",
        "Larisa I.\n"
      ],
      "metadata": {
        "id": "3U9NSUrVsLhz"
      }
    }
  ]
}